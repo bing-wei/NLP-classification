{
 "cells": [
  {
   "cell_type": "code",
   "execution_count": 1,
   "metadata": {},
   "outputs": [
    {
     "name": "stderr",
     "output_type": "stream",
     "text": [
      "Using TensorFlow backend.\n"
     ]
    }
   ],
   "source": [
    "import pandas as pd\n",
    "from sklearn.model_selection import train_test_split\n",
    "from sklearn.utils import class_weight\n",
    "from sklearn.metrics import classification_report\n",
    "import numpy as np\n",
    "from keras.models import Sequential\n",
    "from keras.layers import Dense, Activation, BatchNormalization\n",
    "from keras.preprocessing import text\n",
    "from keras import utils\n",
    "import matplotlib.pyplot as plt\n",
    "\n",
    "train = pd.read_csv('train.csv')\n",
    "test = pd.read_csv('test.csv')\n",
    "sample_upload = pd.read_csv('sample_upload.csv')"
   ]
  },
  {
   "cell_type": "code",
   "execution_count": 17,
   "metadata": {},
   "outputs": [],
   "source": [
    "x, y = train['tweet'], train['class']\n",
    "num_classes = 3\n",
    "max_words = 10000\n",
    "\n",
    "tokenize = text.Tokenizer(num_words=max_words, char_level=False)\n",
    "tokenize.fit_on_texts(x) \n",
    "\n",
    "X_train, X_test, y_train, y_test = train_test_split(x,y,\n",
    "                                                    train_size=0.8,\n",
    "                                                    stratify=y)\n",
    "\n",
    "y_test_label = y_test\n",
    "y_train_label = y_train\n",
    "\n",
    "x_train = tokenize.texts_to_matrix(X_train)\n",
    "x_test = tokenize.texts_to_matrix(X_test)\n",
    "\n",
    "class_weights = class_weight.compute_class_weight('balanced',\n",
    "                                                 np.unique(y_train),\n",
    "                                                 y_train)\n",
    "\n",
    "\n",
    "y_train = utils.to_categorical(y_train, num_classes)\n",
    "y_test = utils.to_categorical(y_test, num_classes)"
   ]
  },
  {
   "cell_type": "code",
   "execution_count": 18,
   "metadata": {},
   "outputs": [
    {
     "name": "stdout",
     "output_type": "stream",
     "text": [
      "Model: \"sequential_3\"\n",
      "_________________________________________________________________\n",
      "Layer (type)                 Output Shape              Param #   \n",
      "=================================================================\n",
      "dense_9 (Dense)              (None, 512)               5120512   \n",
      "_________________________________________________________________\n",
      "activation_9 (Activation)    (None, 512)               0         \n",
      "_________________________________________________________________\n",
      "batch_normalization_7 (Batch (None, 512)               2048      \n",
      "_________________________________________________________________\n",
      "dense_10 (Dense)             (None, 512)               262656    \n",
      "_________________________________________________________________\n",
      "activation_10 (Activation)   (None, 512)               0         \n",
      "_________________________________________________________________\n",
      "batch_normalization_8 (Batch (None, 512)               2048      \n",
      "_________________________________________________________________\n",
      "dense_11 (Dense)             (None, 512)               262656    \n",
      "_________________________________________________________________\n",
      "activation_11 (Activation)   (None, 512)               0         \n",
      "_________________________________________________________________\n",
      "batch_normalization_9 (Batch (None, 512)               2048      \n",
      "_________________________________________________________________\n",
      "dense_12 (Dense)             (None, 3)                 1539      \n",
      "_________________________________________________________________\n",
      "activation_12 (Activation)   (None, 3)                 0         \n",
      "=================================================================\n",
      "Total params: 5,653,507\n",
      "Trainable params: 5,650,435\n",
      "Non-trainable params: 3,072\n",
      "_________________________________________________________________\n",
      "None\n"
     ]
    }
   ],
   "source": [
    "batch_size = 32\n",
    "epochs = 10\n",
    "model = Sequential()\n",
    "model.add(Dense(512, input_shape=(max_words,)))\n",
    "model.add(Activation('relu'))\n",
    "model.add(BatchNormalization())\n",
    "model.add(Dense(512, input_shape=(max_words,)))\n",
    "model.add(Activation('relu'))\n",
    "model.add(BatchNormalization())\n",
    "model.add(Dense(512, input_shape=(max_words,)))\n",
    "model.add(Activation('relu'))\n",
    "model.add(BatchNormalization())\n",
    "model.add(Dense(num_classes))\n",
    "model.add(Activation('softmax'))\n",
    "\n",
    "model.compile(loss='categorical_crossentropy',\n",
    "              optimizer='nadam',\n",
    "              metrics=['accuracy'])\n",
    "\n",
    "print(model.summary())\n",
    "\n",
    "history = model.fit(x_train, y_train,\n",
    "                       batch_size=batch_size,\n",
    "                       epochs=epochs,\n",
    "                       verbose=0,\n",
    "                       validation_data=(x_test, y_test)\n",
    "                       ,class_weight=class_weights)\n"
   ]
  },
  {
   "cell_type": "code",
   "execution_count": 19,
   "metadata": {},
   "outputs": [
    {
     "name": "stdout",
     "output_type": "stream",
     "text": [
      "-------------------------train-------------------------\n",
      "predict    0     1     2\n",
      "label                   \n",
      "0        684     6     0\n",
      "1          1  9191     1\n",
      "2          0     1  2011\n",
      "-------------------------test--------------------------\n",
      "predict   0     1    2\n",
      "label                 \n",
      "0        41   115   17\n",
      "1        29  2221   48\n",
      "2         8    88  407\n",
      "-------------------------score--------------------------\n",
      "              precision    recall  f1-score   support\n",
      "\n",
      "           0       0.53      0.24      0.33       173\n",
      "           1       0.92      0.97      0.94      2298\n",
      "           2       0.86      0.81      0.83       503\n",
      "\n",
      "   micro avg       0.90      0.90      0.90      2974\n",
      "   macro avg       0.77      0.67      0.70      2974\n",
      "weighted avg       0.88      0.90      0.89      2974\n",
      " samples avg       0.90      0.90      0.90      2974\n",
      "\n"
     ]
    }
   ],
   "source": [
    "prediction = model.predict_classes(x_test)\n",
    "y_prediction = model.predict_classes(x_train)\n",
    "y_pred_bool = utils.to_categorical(prediction, num_classes)\n",
    "\n",
    "\n",
    "print('-------------------------train-------------------------')\n",
    "print(pd.crosstab(y_train_label, y_prediction, rownames=['label'], colnames=['predict']))\n",
    "print('-------------------------test--------------------------')\n",
    "print(pd.crosstab(y_test_label, prediction, rownames=['label'], colnames=['predict']))\n",
    "print('-------------------------score--------------------------')\n",
    "print(classification_report(y_test, y_pred_bool))"
   ]
  },
  {
   "cell_type": "code",
   "execution_count": 20,
   "metadata": {},
   "outputs": [
    {
     "data": {
      "image/png": "[encoded data removed]",
      "text/plain": [
       "<Figure size 432x288 with 2 Axes>"
      ]
     },
     "metadata": {
      "needs_background": "light"
     },
     "output_type": "display_data"
    }
   ],
   "source": [
    "loss= history.history.get('loss')\n",
    "acc = history.history.get('val_accuracy')\n",
    "plt.figure(0)\n",
    "plt.subplot(121)\n",
    "plt.plot(range(len(loss)), loss,label='loss')\n",
    "plt.title('Loss')\n",
    "plt.legend(loc='upper left')\n",
    "plt.subplot(122)\n",
    "plt.plot(range(len(acc)), acc,label='acc')\n",
    "plt.title('Accuracy')\n",
    "plt.show()"
   ]
  },
  {
   "cell_type": "code",
   "execution_count": 21,
   "metadata": {},
   "outputs": [],
   "source": [
    "x_ans =tokenize.texts_to_matrix(test['tweet'])\n",
    "sample_upload['class'] = model.predict_classes(x_ans)\n",
    "sample_upload.to_csv(\"ans/sample_upload.csv\",index=False)"
   ]
  }
 ],
 "metadata": {
  "kernelspec": {
   "display_name": "Python 3",
   "language": "python",
   "name": "python3"
  },
  "language_info": {
   "codemirror_mode": {
    "name": "ipython",
    "version": 3
   },
   "file_extension": ".py",
   "mimetype": "text/x-python",
   "name": "python",
   "nbconvert_exporter": "python",
   "pygments_lexer": "ipython3",
   "version": "3.7.4"
  }
 },
 "nbformat": 4,
 "nbformat_minor": 2
}
